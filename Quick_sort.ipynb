{
 "cells": [
  {
   "cell_type": "markdown",
   "metadata": {},
   "source": [
    "## Theory\n",
    "\n",
    "QuickSort is a Divide and Conquer algorithm.\n",
    "It picks an element as pivot and partitions the given array around the picked pivot.\n",
    "There are many different versions of quickSort that pick pivot in different ways.\n",
    "\n",
    "1. Always pick first element as pivot.\n",
    "2. Always pick last element as pivot (implemented below)\n",
    "3. Pick a random element as pivot.\n",
    "4. Pick median as pivot.\n",
    "\n",
    "The key process in quickSort is partition().\n",
    "Target of partitions is, given an array and an element x of array as pivot,\n",
    "put x at its correct position in sorted array and put all smaller elements (smaller than x)\n",
    "before x, and put all greater elements (greater than x) after x.\n",
    "All this should be done in linear time.\n"
   ]
  },
  {
   "cell_type": "code",
   "execution_count": 1,
   "metadata": {},
   "outputs": [
    {
     "name": "stdout",
     "output_type": "stream",
     "text": [
      "[0, 1.6, 4, 5, 7, 8, 9]\n"
     ]
    }
   ],
   "source": [
    "def quick_sort(sequence):\n",
    "    \"\"\"\n",
    "        1. Check the length of sequence \n",
    "        2. if length > 1, pop last element from sequence and use that element\n",
    "            as pivot. \n",
    "        3. finally concatinate the output eg. lower_sequence + pivot + higher squence\n",
    "    \"\"\"\n",
    "    length = len(sequence)\n",
    "    if(length <= 1):\n",
    "        return sequence\n",
    "    else:\n",
    "        pivot = sequence.pop()\n",
    "    \n",
    "    elements_greater = [] #elements greater than pivot\n",
    "    elements_lower = [] #elements less than pivot\n",
    "\n",
    "    for element in sequence:\n",
    "        if(element > pivot):\n",
    "            elements_greater.append(element)\n",
    "        else:\n",
    "            elements_lower.append(element)\n",
    "    \n",
    "    \n",
    "    return quick_sort(elements_lower) + [pivot] + quick_sort(elements_greater)\n",
    "    \n",
    "\n",
    "print(quick_sort([1.6,7,5,9,4,8,0]))\n"
   ]
  }
 ],
 "metadata": {
  "kernelspec": {
   "display_name": "Python 3.9.1 64-bit",
   "metadata": {
    "interpreter": {
     "hash": "7812ea015bdcee6f23a998adcdd2ef97c151c0c241b7b7070987d9313e41299d"
    }
   },
   "name": "python3"
  },
  "language_info": {
   "codemirror_mode": {
    "name": "ipython",
    "version": 3
   },
   "file_extension": ".py",
   "mimetype": "text/x-python",
   "name": "python",
   "nbconvert_exporter": "python",
   "pygments_lexer": "ipython3",
   "version": "3.9.1"
  },
  "orig_nbformat": 2
 },
 "nbformat": 4,
 "nbformat_minor": 2
}